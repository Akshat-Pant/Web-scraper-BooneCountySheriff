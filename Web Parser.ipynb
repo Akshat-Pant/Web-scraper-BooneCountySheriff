{
 "cells": [
  {
   "cell_type": "code",
   "execution_count": null,
   "metadata": {
    "collapsed": true
   },
   "outputs": [],
   "source": [
    "import requests\n",
    "from bs4 import BeautifulSoup\n",
    "import csv"
   ]
  },
  {
   "cell_type": "code",
   "execution_count": null,
   "metadata": {
    "collapsed": true
   },
   "outputs": [],
   "source": [
    "url= 'https://report.boonecountymo.org/mrcjava/servlet/SH01_MP.I00290s'"
   ]
  },
  {
   "cell_type": "code",
   "execution_count": null,
   "metadata": {
    "collapsed": true
   },
   "outputs": [],
   "source": [
    "response= requests.get(url)\n",
    "html= response.content"
   ]
  },
  {
   "cell_type": "code",
   "execution_count": null,
   "metadata": {},
   "outputs": [],
   "source": [
    "soup= BeautifulSoup(html, 'lxml')\n",
    "soup.prettify()"
   ]
  },
  {
   "cell_type": "code",
   "execution_count": null,
   "metadata": {},
   "outputs": [],
   "source": [
    "table= soup.find('tbody', attrs= {'class': 'stripe'})\n",
    "table.prettify()"
   ]
  },
  {
   "cell_type": "code",
   "execution_count": null,
   "metadata": {},
   "outputs": [],
   "source": [
    "list_of_rows= []\n",
    "for row in table.find_all('tr'):\n",
    "    list_of_cells= []\n",
    "    for cell in row.find_all('td'):\n",
    "        list_of_cells.append(cell.text)\n",
    "    list_of_rows.append(list_of_cells)\n",
    "list_of_rows"
   ]
  },
  {
   "cell_type": "code",
   "execution_count": null,
   "metadata": {
    "collapsed": true
   },
   "outputs": [],
   "source": [
    "outfile= open('/Users/akshatpant/Desktop/Web-Parser/parsed.csv', 'w')\n",
    "writer= csv.writer(outfile)\n",
    "writer.writerow(['Last', 'First', \"Middle\", \"Gender\", \"Race\", \"Age\", \"City\", \"State\"])\n",
    "writer.writerows(list_of_rows)"
   ]
  },
  {
   "cell_type": "code",
   "execution_count": null,
   "metadata": {
    "collapsed": true
   },
   "outputs": [],
   "source": []
  }
 ],
 "metadata": {
  "kernelspec": {
   "display_name": "Python 3",
   "language": "python",
   "name": "python3"
  },
  "language_info": {
   "codemirror_mode": {
    "name": "ipython",
    "version": 3
   },
   "file_extension": ".py",
   "mimetype": "text/x-python",
   "name": "python",
   "nbconvert_exporter": "python",
   "pygments_lexer": "ipython3",
   "version": "3.6.3"
  }
 },
 "nbformat": 4,
 "nbformat_minor": 2
}
